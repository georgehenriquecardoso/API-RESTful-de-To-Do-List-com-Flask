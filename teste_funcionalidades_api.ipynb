{
  "nbformat": 4,
  "nbformat_minor": 0,
  "metadata": {
    "colab": {
      "provenance": [],
      "authorship_tag": "ABX9TyO5LEBkTjw0UWM2tVvt/b/E",
      "include_colab_link": true
    },
    "kernelspec": {
      "name": "python3",
      "display_name": "Python 3"
    },
    "language_info": {
      "name": "python"
    }
  },
  "cells": [
    {
      "cell_type": "markdown",
      "metadata": {
        "id": "view-in-github",
        "colab_type": "text"
      },
      "source": [
        "<a href=\"https://colab.research.google.com/github/georgehenriquecardoso/API-RESTful-de-To-Do-List-com-Flask/blob/main/teste_funcionalidades_api.ipynb\" target=\"_parent\"><img src=\"https://colab.research.google.com/assets/colab-badge.svg\" alt=\"Open In Colab\"/></a>"
      ]
    },
    {
      "cell_type": "markdown",
      "source": [],
      "metadata": {
        "id": "GC15NiCXSJm3"
      }
    },
    {
      "cell_type": "markdown",
      "source": [
        "# Seção 1: Instalação dos Pacotes Necessários"
      ],
      "metadata": {
        "id": "hd5c50GhSLbM"
      }
    },
    {
      "cell_type": "markdown",
      "source": [
        "Nesta seção, realizamos a instalação dos pacotes necessários para o projeto. No Google Colab, isso pode ser feito diretamente em uma célula de código. Os pacotes necessários para este projeto são Flask, Flask-SQLAlchemy, Flask-Bcrypt e Flask-JWT-Extended."
      ],
      "metadata": {
        "id": "RLy0WpXFSb38"
      }
    },
    {
      "cell_type": "code",
      "execution_count": 10,
      "metadata": {
        "colab": {
          "base_uri": "https://localhost:8080/"
        },
        "id": "v_L9e9K8R_gB",
        "outputId": "a38e2f7f-4681-4ca9-9a78-aa01282b96c4"
      },
      "outputs": [
        {
          "output_type": "stream",
          "name": "stdout",
          "text": [
            "Requirement already satisfied: Flask in /usr/local/lib/python3.10/dist-packages (2.2.5)\n",
            "Requirement already satisfied: Flask-SQLAlchemy in /usr/local/lib/python3.10/dist-packages (3.1.1)\n",
            "Requirement already satisfied: Flask-Bcrypt in /usr/local/lib/python3.10/dist-packages (1.0.1)\n",
            "Requirement already satisfied: Flask-JWT-Extended in /usr/local/lib/python3.10/dist-packages (4.6.0)\n",
            "Requirement already satisfied: Werkzeug>=2.2.2 in /usr/local/lib/python3.10/dist-packages (from Flask) (3.0.1)\n",
            "Requirement already satisfied: Jinja2>=3.0 in /usr/local/lib/python3.10/dist-packages (from Flask) (3.1.3)\n",
            "Requirement already satisfied: itsdangerous>=2.0 in /usr/local/lib/python3.10/dist-packages (from Flask) (2.1.2)\n",
            "Requirement already satisfied: click>=8.0 in /usr/local/lib/python3.10/dist-packages (from Flask) (8.1.7)\n",
            "Requirement already satisfied: sqlalchemy>=2.0.16 in /usr/local/lib/python3.10/dist-packages (from Flask-SQLAlchemy) (2.0.27)\n",
            "Requirement already satisfied: bcrypt>=3.1.1 in /usr/local/lib/python3.10/dist-packages (from Flask-Bcrypt) (4.1.2)\n",
            "Requirement already satisfied: PyJWT<3.0,>=2.0 in /usr/lib/python3/dist-packages (from Flask-JWT-Extended) (2.3.0)\n",
            "Requirement already satisfied: MarkupSafe>=2.0 in /usr/local/lib/python3.10/dist-packages (from Jinja2>=3.0->Flask) (2.1.5)\n",
            "Requirement already satisfied: typing-extensions>=4.6.0 in /usr/local/lib/python3.10/dist-packages (from sqlalchemy>=2.0.16->Flask-SQLAlchemy) (4.9.0)\n",
            "Requirement already satisfied: greenlet!=0.4.17 in /usr/local/lib/python3.10/dist-packages (from sqlalchemy>=2.0.16->Flask-SQLAlchemy) (3.0.3)\n"
          ]
        }
      ],
      "source": [
        "!pip install Flask Flask-SQLAlchemy Flask-Bcrypt Flask-JWT-Extended\n"
      ]
    },
    {
      "cell_type": "markdown",
      "source": [
        "# Seção 2: Configuração do Flask e Banco de Dados"
      ],
      "metadata": {
        "id": "QGlPM65oShPz"
      }
    },
    {
      "cell_type": "markdown",
      "source": [
        "Aqui, realizamos a configuração inicial do Flask e do banco de dados SQLite. Flask é inicializado e configurado para usar o SQLAlchemy para interagir com o banco de dados e o Bcrypt para lidar com o hash de senhas. Também configuramos o JWTManager para autenticação de usuário."
      ],
      "metadata": {
        "id": "N8o9RGsxSjgs"
      }
    },
    {
      "cell_type": "code",
      "source": [
        "from flask import Flask\n",
        "from flask_sqlalchemy import SQLAlchemy\n",
        "from flask_bcrypt import Bcrypt\n",
        "from flask_jwt_extended import JWTManager\n",
        "\n",
        "app = Flask(__name__)\n",
        "\n",
        "# Configuração do banco de dados SQLite\n",
        "app.config['SQLALCHEMY_DATABASE_URI'] = 'sqlite:///database.db'\n",
        "app.config['SQLALCHEMY_TRACK_MODIFICATIONS'] = False\n",
        "db = SQLAlchemy(app)\n",
        "\n",
        "# Configuração do Bcrypt para hash de senhas\n",
        "bcrypt = Bcrypt(app)\n",
        "\n",
        "# Configuração do JWT para autenticação de usuário\n",
        "app.config['JWT_SECRET_KEY'] = 'super-secret-key'\n",
        "jwt = JWTManager(app)\n"
      ],
      "metadata": {
        "id": "SEbHg001SmUD"
      },
      "execution_count": 11,
      "outputs": []
    },
    {
      "cell_type": "markdown",
      "source": [
        "# Seção 3: Definição do Modelo de Dados"
      ],
      "metadata": {
        "id": "Qn1Js-ecSswo"
      }
    },
    {
      "cell_type": "markdown",
      "source": [
        "Nesta seção, definimos os modelos de dados para as tarefas (Task) e os usuários (User). Esses modelos são representados como tabelas em nosso banco de dados SQLite."
      ],
      "metadata": {
        "id": "iRwHPFFRSupD"
      }
    },
    {
      "cell_type": "code",
      "source": [
        "class Task(db.Model):\n",
        "    id = db.Column(db.Integer, primary_key=True)\n",
        "    content = db.Column(db.String(200), nullable=False)\n",
        "    completed = db.Column(db.Boolean, default=False)\n",
        "    user_id = db.Column(db.Integer, db.ForeignKey('user.id'))\n",
        "\n",
        "class User(db.Model):\n",
        "    id = db.Column(db.Integer, primary_key=True)\n",
        "    username = db.Column(db.String(50), unique=True, nullable=False)\n",
        "    password = db.Column(db.String(100), nullable=False)\n",
        "    tasks = db.relationship('Task', backref='user', lazy=True)\n"
      ],
      "metadata": {
        "id": "fGhkt_X6SyR7"
      },
      "execution_count": 12,
      "outputs": []
    },
    {
      "cell_type": "markdown",
      "source": [
        "# Seção 4: Rotas da API"
      ],
      "metadata": {
        "id": "dEk-bcXdS2fU"
      }
    },
    {
      "cell_type": "markdown",
      "source": [
        "Aqui, definimos as rotas da nossa API. Incluímos rotas para registro e login de usuários, bem como para manipulação de tarefas (criar, listar) após a autenticação do usuário."
      ],
      "metadata": {
        "id": "Rm6DfWC5S4JE"
      }
    },
    {
      "cell_type": "code",
      "source": [
        "from flask import request, jsonify\n",
        "from flask_jwt_extended import jwt_required, create_access_token, get_jwt_identity\n",
        "\n",
        "@app.route('/api/register', methods=['POST'])\n",
        "def register():\n",
        "    # Código para registrar um novo usuário\n",
        "    pass\n",
        "\n",
        "@app.route('/api/login', methods=['POST'])\n",
        "def login():\n",
        "    # Código para autenticar o usuário e gerar um token JWT\n",
        "    pass\n",
        "\n",
        "@app.route('/api/tasks', methods=['GET'])\n",
        "@jwt_required()\n",
        "def tasks():\n",
        "    # Código para listar todas as tarefas do usuário autenticado\n",
        "    pass\n",
        "\n",
        "@app.route('/api/tasks', methods=['POST'])\n",
        "@jwt_required()\n",
        "def create_task():\n",
        "    # Código para criar uma nova tarefa para o usuário autenticado\n",
        "    pass\n"
      ],
      "metadata": {
        "id": "oYFS1TFWS7HM"
      },
      "execution_count": 13,
      "outputs": []
    },
    {
      "cell_type": "markdown",
      "source": [
        "# Seção 5: Rotas da Interface de Usuário (Opcional)"
      ],
      "metadata": {
        "id": "d1M_1PsWS-XN"
      }
    },
    {
      "cell_type": "markdown",
      "source": [
        "Caso queira incluir uma interface de usuário para interagir com a API, você pode definir as rotas nesta seção."
      ],
      "metadata": {
        "id": "JacUjvbMS_yM"
      }
    },
    {
      "cell_type": "code",
      "source": [
        "@app.route('/')\n",
        "def index():\n",
        "    # Código para renderizar a interface de usuário (HTML, formulários, etc.)\n",
        "    pass\n"
      ],
      "metadata": {
        "id": "AcsJJkGhTDqU"
      },
      "execution_count": 14,
      "outputs": []
    },
    {
      "cell_type": "markdown",
      "source": [
        "# Seção 6: Configuração e Execução do Flask"
      ],
      "metadata": {
        "id": "gl4Xv-e2TG6f"
      }
    },
    {
      "cell_type": "markdown",
      "source": [
        "Por fim, esta seção é responsável por configurar e iniciar o servidor Flask."
      ],
      "metadata": {
        "id": "FQpGMpSCTJWU"
      }
    },
    {
      "cell_type": "code",
      "source": [
        "if __name__ == '__main__':\n",
        "    with app.app_context():\n",
        "        db.create_all()\n",
        "    app.run(debug=True)\n"
      ],
      "metadata": {
        "id": "crX-HqqyTNn8"
      },
      "execution_count": 15,
      "outputs": []
    }
  ]
}